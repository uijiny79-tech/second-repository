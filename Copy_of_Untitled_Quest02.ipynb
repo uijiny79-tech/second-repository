{
  "nbformat": 4,
  "nbformat_minor": 0,
  "metadata": {
    "colab": {
      "provenance": [],
      "include_colab_link": true
    },
    "kernelspec": {
      "name": "python3",
      "display_name": "Python 3"
    },
    "language_info": {
      "name": "python"
    }
  },
  "cells": [
    {
      "cell_type": "markdown",
      "metadata": {
        "id": "view-in-github",
        "colab_type": "text"
      },
      "source": [
        "<a href=\"https://colab.research.google.com/github/uijiny79-tech/second-repository/blob/master/Copy_of_Untitled_Quest02.ipynb\" target=\"_parent\"><img src=\"https://colab.research.google.com/assets/colab-badge.svg\" alt=\"Open In Colab\"/></a>"
      ]
    },
    {
      "cell_type": "code",
      "execution_count": null,
      "metadata": {
        "id": "_NSfyhfILm9c"
      },
      "outputs": [],
      "source": [
        "# 1번 과정 시작(텍스트 전처리)\n",
        "f = open ('/content/Avengers.txt','r')"
      ]
    },
    {
      "cell_type": "code",
      "source": [
        "data_all = f.read()"
      ],
      "metadata": {
        "id": "pqR95TsSNkTm"
      },
      "execution_count": null,
      "outputs": []
    },
    {
      "cell_type": "code",
      "source": [
        "print(data_all)"
      ],
      "metadata": {
        "colab": {
          "base_uri": "https://localhost:8080/"
        },
        "id": "EltujPdcNsY1",
        "outputId": "28b50cb0-1e73-42ac-bbbe-cc46309b60c5",
        "collapsed": true
      },
      "execution_count": null,
      "outputs": [
        {
          "output_type": "stream",
          "name": "stdout",
          "text": [
            "f = open ('/content/Avengers.txt','r')\n",
            "data_all = f.read()\n",
            "print(data_all)\n"
          ]
        }
      ]
    },
    {
      "cell_type": "code",
      "source": [
        "f.seek(0) # 다시 처음으로 되돌아가서, readlines가 데이터 읽을 수 있도록 하기"
      ],
      "metadata": {
        "colab": {
          "base_uri": "https://localhost:8080/"
        },
        "id": "nqpdUt3NRvN3",
        "outputId": "535ab0c0-98cc-4550-cbb4-42d944db4cd2"
      },
      "execution_count": null,
      "outputs": [
        {
          "output_type": "execute_result",
          "data": {
            "text/plain": [
              "0"
            ]
          },
          "metadata": {},
          "execution_count": 79
        }
      ]
    },
    {
      "cell_type": "code",
      "source": [
        "data_lines = f.readlines() # 리스트에 저장"
      ],
      "metadata": {
        "id": "RvrYBsJCN6AZ"
      },
      "execution_count": null,
      "outputs": []
    },
    {
      "cell_type": "code",
      "source": [
        "print(data_lines)"
      ],
      "metadata": {
        "id": "SoesuPVJN_ud",
        "colab": {
          "base_uri": "https://localhost:8080/"
        },
        "outputId": "0a6b2cf9-380d-447f-dcdd-c71f274d9021"
      },
      "execution_count": null,
      "outputs": [
        {
          "output_type": "stream",
          "name": "stdout",
          "text": [
            "[\"f = open ('/content/Avengers.txt','r')\\n\", 'data_all = f.read()\\n', 'print(data_all)']\n"
          ]
        }
      ]
    },
    {
      "cell_type": "code",
      "source": [
        "data_lower = [s.lower() for s in data_lines] # 소문자로 변환"
      ],
      "metadata": {
        "id": "n36WexxLSNFh"
      },
      "execution_count": null,
      "outputs": []
    },
    {
      "cell_type": "code",
      "source": [
        "print(data_lower)"
      ],
      "metadata": {
        "colab": {
          "base_uri": "https://localhost:8080/"
        },
        "id": "qcigT0mqSu3w",
        "outputId": "e1b4cb7d-1248-4688-c322-aee26b1931d3"
      },
      "execution_count": null,
      "outputs": [
        {
          "output_type": "stream",
          "name": "stdout",
          "text": [
            "[\"f = open ('/content/avengers.txt','r')\\n\", 'data_all = f.read()\\n', 'print(data_all)']\n"
          ]
        }
      ]
    },
    {
      "cell_type": "code",
      "source": [
        "# 특수문자 제거(은별 버전)\n",
        "clean_lines = [\n",
        "    ''.join(\n",
        "      ch if (ch.islower() or ch.isdigit() or ch.isspace()) else ' '\n",
        "      for ch in line\n",
        "    )\n",
        "    for line in data_lower\n",
        "]\n",
        "\n",
        "# 특수문자 제거(의진님 버전)\n",
        "# clean_lines = []\n",
        "# for line in data_lower:\n",
        "#    for ch in  \".,!:;'\\\"()-\":\n",
        "#      line = line.replace(ch, \" \")\n",
        "#    clean_lines.append(line)"
      ],
      "metadata": {
        "id": "DJrKjTX5Sy9Q"
      },
      "execution_count": null,
      "outputs": []
    },
    {
      "cell_type": "code",
      "source": [
        "print(clean_lines)"
      ],
      "metadata": {
        "id": "3szx99rfZHg4",
        "colab": {
          "base_uri": "https://localhost:8080/"
        },
        "outputId": "ac7b00f3-ec40-4186-ae5f-5fd5163f45ad"
      },
      "execution_count": null,
      "outputs": [
        {
          "output_type": "stream",
          "name": "stdout",
          "text": [
            "['f   open    content avengers txt   r  \\n', 'data all   f read  \\n', 'print data all ']\n"
          ]
        }
      ]
    },
    {
      "cell_type": "code",
      "source": [
        "# 단어 단위로 분리(은별 버전)\n",
        "words_list = [word for line in clean_lines for word in line.split()]\n",
        "\n",
        "# 단어 단위로 분리(가람님 버전)\n",
        "# words_list = [s.split() for s in clean_lines]\n",
        "# print(words_list)\n",
        "# for word in words_list:\n",
        "#    print(word)"
      ],
      "metadata": {
        "id": "sKbumiZpW4a2",
        "collapsed": true
      },
      "execution_count": null,
      "outputs": []
    },
    {
      "cell_type": "code",
      "source": [
        "# 2번 과정 시작(각 단어별 빈도수를 딕셔너리에 저장)\n",
        "# 나중에 해볼 방법\n",
        "# for문 써서 word count\n",
        "# list.count \"딕셔너리 형태로 저장방법?\"\n",
        "# 지금 사용 방법\n",
        "# Counter \"리스트에서 바로 사용가능한지? -> 문자열 리스트가 아니라 지금 \"리스트의 리스트\" 상태여서? 조치가 필요\"\n",
        "# 그 전 쉘에서 형태 수정\n",
        "\n",
        "from collections import Counter\n",
        "word_count = Counter(words_list)"
      ],
      "metadata": {
        "id": "6m--kXiBapqZ"
      },
      "execution_count": null,
      "outputs": []
    },
    {
      "cell_type": "code",
      "source": [
        "print(word_count)"
      ],
      "metadata": {
        "id": "ZIx_mE7ohnM6",
        "colab": {
          "base_uri": "https://localhost:8080/"
        },
        "outputId": "42d0c256-28cf-4400-d10c-ad41c49bf362"
      },
      "execution_count": null,
      "outputs": [
        {
          "output_type": "stream",
          "name": "stdout",
          "text": [
            "Counter({'f': 2, 'data': 2, 'all': 2, 'open': 1, 'content': 1, 'avengers': 1, 'txt': 1, 'r': 1, 'read': 1, 'print': 1})\n"
          ]
        }
      ]
    },
    {
      "cell_type": "code",
      "source": [
        "# 3번 과정 시작(딕셔너리를 빈도순으로 내림차순 정렬 후 정렬 순서대로 정수 인덱스 부여)\n",
        "# vocab 사전 만들기 (빈도 내림차순, 동률이면 단어 오름차순)\n",
        "items = sorted(word_count.items(), key=lambda kv: (-kv[1], kv[0]))\n",
        "vocab = {word: idx for idx, (word, _) in enumerate(items)}\n",
        "\n",
        "print(\"vocab 예시 (10개):\", list(vocab.items())[:10])\n",
        "\n",
        "# 가람님 버전\n",
        "# sorted_dict = dict(sorted(word_count.items(), key=lambda item: item[1], reverse=True))\n",
        "# print(sorted_dict)"
      ],
      "metadata": {
        "id": "gtgaZKJ3h1XC",
        "colab": {
          "base_uri": "https://localhost:8080/"
        },
        "outputId": "2ce43e12-5e68-40cf-c16f-c76e2e29af7c"
      },
      "execution_count": null,
      "outputs": [
        {
          "output_type": "stream",
          "name": "stdout",
          "text": [
            "vocab 예시 (10개): [('all', 0), ('data', 1), ('f', 2), ('avengers', 3), ('content', 4), ('open', 5), ('print', 6), ('r', 7), ('read', 8), ('txt', 9)]\n"
          ]
        }
      ]
    },
    {
      "cell_type": "code",
      "source": [
        "# 4번 과정 시작(텍스트를 input()으로 입력받아서 정수를 return하는 함수를 만든다)\n",
        "# encoder 함수 정의\n",
        "import re\n",
        "\n",
        "UNK_ID = -1  # 사전에 없는 단어는 -1로 처리\n",
        "\n",
        "def preprocess(text):\n",
        "    \"\"\"입력 문장을 전처리 → 토큰 리스트 반환\"\"\"\n",
        "    text = text.lower()\n",
        "    text = re.sub(r\"[^a-z0-9\\s]\", \" \", text)\n",
        "    return text.split()\n",
        "\n",
        "def encoder(text_line, vocab):\n",
        "    \"\"\"문장을 정수 시퀀스로 변환\"\"\"\n",
        "    tokens = preprocess(text_line)\n",
        "    return [vocab.get(tok, UNK_ID) for tok in tokens]\n",
        "\n",
        "# 사용 예시\n",
        "sample = \"I am a boy\"\n",
        "print(sample, \"->\", encoder(sample, vocab))"
      ],
      "metadata": {
        "id": "tksgaYBdiDZC",
        "colab": {
          "base_uri": "https://localhost:8080/"
        },
        "outputId": "d555033c-31ae-428f-a716-d27644f79d24"
      },
      "execution_count": null,
      "outputs": [
        {
          "output_type": "stream",
          "name": "stdout",
          "text": [
            "I am a boy -> [-1, -1, -1, -1]\n"
          ]
        }
      ]
    }
  ]
}